{
  "nbformat": 4,
  "nbformat_minor": 0,
  "metadata": {
    "colab": {
      "provenance": [],
      "collapsed_sections": []
    },
    "kernelspec": {
      "name": "python3",
      "display_name": "Python 3"
    },
    "language_info": {
      "name": "python"
    }
  },
  "cells": [
    {
      "cell_type": "markdown",
      "source": [
        "Zadanie 1"
      ],
      "metadata": {
        "id": "omtj8liCPqwP"
      }
    },
    {
      "cell_type": "code",
      "execution_count": null,
      "metadata": {
        "id": "EsraFmjdMSDF"
      },
      "outputs": [],
      "source": [
        "import pandas as pd\n",
        "import numpy as np\n",
        "\n",
        "data = pd.read_csv('president_heights.csv')\n",
        "heights = np.array(data['height(cm)'])\n",
        "\n",
        "meanHeight = np.mean(heights)\n",
        "standardDeviation = np.std(heights)\n",
        "minHeight = np.min(heights)\n",
        "maxHeight = np.max(heights)\n",
        "lol1 = np.percentile(heights,25)\n",
        "median = np.median(heights)\n",
        "lol2 = np.percentile(heights,75)\n",
        "\n",
        "print(f\"Mean height: {meanHeight}\")\n",
        "print(f\"Standard deviation: {standardDeviation}\")\n",
        "print(f\"Minimum height: {minHeight}\")\n",
        "print(f\"Maximum height: {maxHeight}\")\n",
        "print(f\"25th percentile: {lol1}\")\n",
        "print(f\"Median: {median}\")\n",
        "print(f\"75th percentile: {lol2}\")\n",
        "\n"
      ]
    },
    {
      "cell_type": "markdown",
      "source": [
        "Zadanie 2"
      ],
      "metadata": {
        "id": "Ks-_bGIdZtzO"
      }
    },
    {
      "cell_type": "code",
      "source": [
        "import numpy as np\n",
        "\n",
        "\n",
        "matrix = np.genfromtxt('Zadanie_2.csv', delimiter=';')\n",
        "\n",
        "eigenValues, eigenVectors = np.linalg.eig(matrix)\n",
        "\n",
        "print(f\"eigen values: {eigenValues}\")\n",
        "print(f\"eigen vectors: {eigenVectors}\")\n",
        "\n",
        "invertedMatrix = np.linalg.inv(matrix)\n",
        "print(f\"inverted matrix: {invertedMatrix}\")\n",
        "\n"
      ],
      "metadata": {
        "id": "VMiyAct-Zvm5"
      },
      "execution_count": null,
      "outputs": []
    },
    {
      "cell_type": "markdown",
      "source": [
        "Zadanie 3"
      ],
      "metadata": {
        "id": "uAo-w6NVd_6d"
      }
    },
    {
      "cell_type": "code",
      "source": [
        "import numpy as np\n",
        "import pandas as pd\n",
        "# use pandas to extract rainfall inches as a NumPy array\n",
        "rainfall = pd.read_csv('Seattle2014.csv')['PRCP'].values\n",
        "inches = rainfall / 254.0\n",
        "inches.shape\n",
        "\n",
        "%matplotlib inline\n",
        "import matplotlib.pyplot as plt\n",
        "import seaborn; seaborn.set()\n",
        "plt.hist(inches, 40);\n",
        "\n",
        "#print(inches > 0.5)\n",
        "\n",
        "notRainyDays = np.sum(inches == 0)\n",
        "rainyDays = np.sum(inches > 0)\n",
        "point5AndMoreDays = np.sum(inches > 0.5)\n",
        "rainyBelowPoint2Days = np.abs(np.sum(inches < 0.2) - notRainyDays)\n",
        "\n",
        "print(f\"Number days without rain: {notRainyDays}\")\n",
        "print(f\"Number days with rain: {rainyDays}\")\n",
        "print(f\"Days with more than 0.5 inches: {point5AndMoreDays}\")\n",
        "print(f\"Rainy days with < 0.2 inches: {rainyBelowPoint2Days}\") \n",
        "\n",
        "\n",
        "\n",
        "summerDays = inches[170:261]\n",
        "nonSummerDays = np.append(inches[:170], inches[261:])\n",
        "\n",
        "medianPrcpRainyDays = np.median(inches[inches > 0])\n",
        "medianPrcpSummerDays = np.median(summerDays)\n",
        "maxPrcpSummerDays = np.max(summerDays)\n",
        "maxPrcpNonSummerDays = np.max(nonSummerDays)\n",
        "\n",
        "print(f\"Median precip on rainy days in 2014 (inches): {medianPrcpRainyDays}\")\n",
        "print(f\"Median precip on summer days in 2014 (inches): {medianPrcpSummerDays}\")\n",
        "print(f\"Maximum precip on summer days in 2014 (inches): {maxPrcpSummerDays}\")\n",
        "print(f\"Maximum precip on non-summer rainy days (inches): {maxPrcpNonSummerDays}\")"
      ],
      "metadata": {
        "id": "1abrBYaJeBo1"
      },
      "execution_count": null,
      "outputs": []
    },
    {
      "cell_type": "markdown",
      "source": [
        "Zadanie 4"
      ],
      "metadata": {
        "id": "F5BKD9kqeCNW"
      }
    },
    {
      "cell_type": "code",
      "source": [
        "import numpy as np\n",
        "\n",
        "A = [0,3,2,5]\n",
        "B = [0,3,1,4]\n",
        "\n",
        "subtraction = np.subtract(B,A)\n",
        "mutliplyA = np.multiply(A,4)\n",
        "dotProduct = np.dot(A,B)\n",
        "lenghtB = np.linalg.norm(B)\n",
        "\n",
        "\n",
        "print(f\"B - A = {subtraction}\")\n",
        "print(f\"A * 4 = {mutliplyA}\")\n",
        "print(f\"dot product = {dotProduct}\")\n",
        "print(f\"magnitude of B = {lenghtB}\")\n",
        "\n",
        "\n"
      ],
      "metadata": {
        "id": "j4gfbJrJeD4O"
      },
      "execution_count": null,
      "outputs": []
    }
  ]
}